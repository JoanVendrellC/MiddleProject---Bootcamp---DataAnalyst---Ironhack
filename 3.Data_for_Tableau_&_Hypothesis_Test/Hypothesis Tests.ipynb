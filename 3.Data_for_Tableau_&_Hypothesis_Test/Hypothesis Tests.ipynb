{
 "cells": [
  {
   "cell_type": "code",
   "execution_count": 1,
   "id": "b98d64c3",
   "metadata": {},
   "outputs": [],
   "source": [
    "import pandas as pd\n",
    "import numpy as np\n",
    "import datetime\n",
    "import matplotlib\n",
    "import matplotlib.pyplot as plt\n",
    "import seaborn as sns\n",
    "%matplotlib inline\n",
    "import warnings\n",
    "import statistics\n",
    "import pymysql\n",
    "from sqlalchemy import create_engine\n",
    "import getpass  \n",
    "warnings.filterwarnings('ignore')\n",
    "from collections import Counter\n",
    "from seaborn import load_dataset\n",
    "from sklearn.preprocessing import MinMaxScaler \n",
    "from sklearn.preprocessing import StandardScaler\n",
    "from sklearn.preprocessing import OneHotEncoder\n",
    "from sklearn.compose import make_column_transformer\n",
    "from sklearn.model_selection import train_test_split\n",
    "from sklearn.model_selection import train_test_split as tts\n",
    "from sklearn.linear_model import LinearRegression as LinReg\n",
    "from sklearn import linear_model\n",
    "from sklearn.metrics import r2_score\n",
    "from sklearn.metrics import mean_squared_error\n",
    "from sklearn.metrics import mean_absolute_error as mae\n",
    "from sklearn.linear_model import LogisticRegression\n",
    "from sklearn.metrics import confusion_matrix \n",
    "from sklearn import neighbors \n",
    "from sklearn.metrics import precision_score\n",
    "from sklearn.metrics import recall_score\n",
    "from sklearn.metrics import f1_score\n",
    "from imblearn.over_sampling import SMOTE"
   ]
  },
  {
   "cell_type": "code",
   "execution_count": 2,
   "id": "dc410fa0",
   "metadata": {},
   "outputs": [],
   "source": [
    "Data_merged = pd.read_csv('Merged_Hotels_Lodge_Open.csv')"
   ]
  },
  {
   "cell_type": "code",
   "execution_count": 3,
   "id": "eca291f5",
   "metadata": {},
   "outputs": [
    {
     "data": {
      "text/html": [
       "<div>\n",
       "<style scoped>\n",
       "    .dataframe tbody tr th:only-of-type {\n",
       "        vertical-align: middle;\n",
       "    }\n",
       "\n",
       "    .dataframe tbody tr th {\n",
       "        vertical-align: top;\n",
       "    }\n",
       "\n",
       "    .dataframe thead th {\n",
       "        text-align: right;\n",
       "    }\n",
       "</style>\n",
       "<table border=\"1\" class=\"dataframe\">\n",
       "  <thead>\n",
       "    <tr style=\"text-align: right;\">\n",
       "      <th></th>\n",
       "      <th>name</th>\n",
       "      <th>created</th>\n",
       "      <th>addresses_road_name</th>\n",
       "      <th>addresses_start_street_number</th>\n",
       "      <th>addresses_neighborhood_id</th>\n",
       "      <th>addresses_neighborhood_name</th>\n",
       "      <th>addresses_district_id</th>\n",
       "      <th>addresses_district_name</th>\n",
       "      <th>addresses_zip_code</th>\n",
       "      <th>addresses_town</th>\n",
       "      <th>type_of_contact</th>\n",
       "      <th>phone_number</th>\n",
       "      <th>hotel_Rating</th>\n",
       "      <th>geo_epgs_25831_x</th>\n",
       "      <th>geo_epgs_25831_y</th>\n",
       "      <th>geo_epgs_4326_x</th>\n",
       "      <th>geo_epgs_4326_y</th>\n",
       "      <th>month_created</th>\n",
       "      <th>year_created</th>\n",
       "      <th>Open</th>\n",
       "    </tr>\n",
       "  </thead>\n",
       "  <tbody>\n",
       "    <tr>\n",
       "      <th>0</th>\n",
       "      <td>Hotel Balmoral</td>\n",
       "      <td>1984-05-29 22:00:00+00:00</td>\n",
       "      <td>Via Augusta</td>\n",
       "      <td>5</td>\n",
       "      <td>26</td>\n",
       "      <td>Sant Gervasi - Galvany</td>\n",
       "      <td>5</td>\n",
       "      <td>Sarrià-Sant Gervasi</td>\n",
       "      <td>8006</td>\n",
       "      <td>BARCELONA</td>\n",
       "      <td>Centraleta</td>\n",
       "      <td>932178700</td>\n",
       "      <td>4</td>\n",
       "      <td>-2147483648</td>\n",
       "      <td>-2147483648</td>\n",
       "      <td>-2147483648</td>\n",
       "      <td>-2147483648</td>\n",
       "      <td>5</td>\n",
       "      <td>1984</td>\n",
       "      <td>Si</td>\n",
       "    </tr>\n",
       "    <tr>\n",
       "      <th>1</th>\n",
       "      <td>Hotel Fornos</td>\n",
       "      <td>1984-05-29 22:00:00+00:00</td>\n",
       "      <td>C Rambla</td>\n",
       "      <td>44</td>\n",
       "      <td>2</td>\n",
       "      <td>el Barri Gòtic</td>\n",
       "      <td>1</td>\n",
       "      <td>Ciutat Vella</td>\n",
       "      <td>8002</td>\n",
       "      <td>BARCELONA</td>\n",
       "      <td>Tel.</td>\n",
       "      <td>933182024</td>\n",
       "      <td>2</td>\n",
       "      <td>-2147483648</td>\n",
       "      <td>-2147483648</td>\n",
       "      <td>-2147483648</td>\n",
       "      <td>-2147483648</td>\n",
       "      <td>5</td>\n",
       "      <td>1984</td>\n",
       "      <td>No</td>\n",
       "    </tr>\n",
       "    <tr>\n",
       "      <th>2</th>\n",
       "      <td>Hotel Granvia</td>\n",
       "      <td>1984-05-29 22:00:00+00:00</td>\n",
       "      <td>G.V. Corts Catalanes</td>\n",
       "      <td>642</td>\n",
       "      <td>7</td>\n",
       "      <td>la Dreta de l'Eixample</td>\n",
       "      <td>2</td>\n",
       "      <td>Eixample</td>\n",
       "      <td>8007</td>\n",
       "      <td>BARCELONA</td>\n",
       "      <td>Tel.</td>\n",
       "      <td>933181900</td>\n",
       "      <td>3</td>\n",
       "      <td>-2147483648</td>\n",
       "      <td>-2147483648</td>\n",
       "      <td>-2147483648</td>\n",
       "      <td>-2147483648</td>\n",
       "      <td>5</td>\n",
       "      <td>1984</td>\n",
       "      <td>No</td>\n",
       "    </tr>\n",
       "    <tr>\n",
       "      <th>3</th>\n",
       "      <td>Hotel Nouvel</td>\n",
       "      <td>1984-05-29 22:00:00+00:00</td>\n",
       "      <td>C Santa Anna</td>\n",
       "      <td>18</td>\n",
       "      <td>2</td>\n",
       "      <td>el Barri Gòtic</td>\n",
       "      <td>1</td>\n",
       "      <td>Ciutat Vella</td>\n",
       "      <td>8002</td>\n",
       "      <td>BARCELONA</td>\n",
       "      <td>Tel.</td>\n",
       "      <td>933018274</td>\n",
       "      <td>3</td>\n",
       "      <td>-2147483648</td>\n",
       "      <td>-2147483648</td>\n",
       "      <td>-2147483648</td>\n",
       "      <td>-2147483648</td>\n",
       "      <td>5</td>\n",
       "      <td>1984</td>\n",
       "      <td>No</td>\n",
       "    </tr>\n",
       "    <tr>\n",
       "      <th>4</th>\n",
       "      <td>Hotel Silken Sant Gervasi</td>\n",
       "      <td>2000-05-17 22:00:00+00:00</td>\n",
       "      <td>C Sant Gervasi de Cassoles</td>\n",
       "      <td>26</td>\n",
       "      <td>25</td>\n",
       "      <td>Sant Gervasi - la Bonanova</td>\n",
       "      <td>5</td>\n",
       "      <td>Sarrià-Sant Gervasi</td>\n",
       "      <td>8022</td>\n",
       "      <td>BARCELONA</td>\n",
       "      <td>Centraleta</td>\n",
       "      <td>932531740</td>\n",
       "      <td>3</td>\n",
       "      <td>-2147483648</td>\n",
       "      <td>-2147483648</td>\n",
       "      <td>-2147483648</td>\n",
       "      <td>-2147483648</td>\n",
       "      <td>5</td>\n",
       "      <td>2000</td>\n",
       "      <td>Si</td>\n",
       "    </tr>\n",
       "  </tbody>\n",
       "</table>\n",
       "</div>"
      ],
      "text/plain": [
       "                         name                    created  \\\n",
       "0             Hotel Balmoral   1984-05-29 22:00:00+00:00   \n",
       "1               Hotel Fornos   1984-05-29 22:00:00+00:00   \n",
       "2              Hotel Granvia   1984-05-29 22:00:00+00:00   \n",
       "3               Hotel Nouvel   1984-05-29 22:00:00+00:00   \n",
       "4  Hotel Silken Sant Gervasi   2000-05-17 22:00:00+00:00   \n",
       "\n",
       "          addresses_road_name  addresses_start_street_number  \\\n",
       "0                 Via Augusta                              5   \n",
       "1                    C Rambla                             44   \n",
       "2        G.V. Corts Catalanes                            642   \n",
       "3                C Santa Anna                             18   \n",
       "4  C Sant Gervasi de Cassoles                             26   \n",
       "\n",
       "   addresses_neighborhood_id addresses_neighborhood_name  \\\n",
       "0                         26      Sant Gervasi - Galvany   \n",
       "1                          2              el Barri Gòtic   \n",
       "2                          7      la Dreta de l'Eixample   \n",
       "3                          2              el Barri Gòtic   \n",
       "4                         25  Sant Gervasi - la Bonanova   \n",
       "\n",
       "   addresses_district_id addresses_district_name  addresses_zip_code  \\\n",
       "0                      5     Sarrià-Sant Gervasi                8006   \n",
       "1                      1            Ciutat Vella                8002   \n",
       "2                      2                Eixample                8007   \n",
       "3                      1            Ciutat Vella                8002   \n",
       "4                      5     Sarrià-Sant Gervasi                8022   \n",
       "\n",
       "  addresses_town type_of_contact phone_number  hotel_Rating  geo_epgs_25831_x  \\\n",
       "0      BARCELONA      Centraleta    932178700             4       -2147483648   \n",
       "1      BARCELONA            Tel.    933182024             2       -2147483648   \n",
       "2      BARCELONA            Tel.    933181900             3       -2147483648   \n",
       "3      BARCELONA            Tel.    933018274             3       -2147483648   \n",
       "4      BARCELONA      Centraleta    932531740             3       -2147483648   \n",
       "\n",
       "   geo_epgs_25831_y  geo_epgs_4326_x  geo_epgs_4326_y  month_created  \\\n",
       "0       -2147483648      -2147483648      -2147483648              5   \n",
       "1       -2147483648      -2147483648      -2147483648              5   \n",
       "2       -2147483648      -2147483648      -2147483648              5   \n",
       "3       -2147483648      -2147483648      -2147483648              5   \n",
       "4       -2147483648      -2147483648      -2147483648              5   \n",
       "\n",
       "   year_created Open  \n",
       "0          1984   Si  \n",
       "1          1984   No  \n",
       "2          1984   No  \n",
       "3          1984   No  \n",
       "4          2000   Si  "
      ]
     },
     "execution_count": 3,
     "metadata": {},
     "output_type": "execute_result"
    }
   ],
   "source": [
    "Data_merged.head()"
   ]
  },
  {
   "cell_type": "code",
   "execution_count": 4,
   "id": "d798bae8",
   "metadata": {},
   "outputs": [],
   "source": [
    "#I'm curious about the rating stars. People say that in Eixample district there are most of the highest rating hotels and the mean of the rating is greater than 3. Test this one sided hypothesis using a 95% confidence interval.\n",
    "\n",
    "\n",
    "# Ho = average rating in Eixample district is > 3\n",
    "# H1 = average rating in Eixample district is < 3"
   ]
  },
  {
   "cell_type": "code",
   "execution_count": 5,
   "id": "66a2002c",
   "metadata": {},
   "outputs": [
    {
     "data": {
      "text/plain": [
       "2      3\n",
       "5      3\n",
       "6      4\n",
       "8      3\n",
       "9      3\n",
       "      ..\n",
       "638    0\n",
       "640    0\n",
       "642    0\n",
       "644    0\n",
       "646    0\n",
       "Name: hotel_Rating, Length: 246, dtype: int64"
      ]
     },
     "execution_count": 5,
     "metadata": {},
     "output_type": "execute_result"
    }
   ],
   "source": [
    "fivestars = Data_merged[(Data_merged['addresses_district_name']== 'Eixample')]['hotel_Rating']\n",
    "#fivestars=Data_merged[(Data_merged['salary_or_hourly'] == 'Salary') & (salaries_df['department'] == 'POLICE')]['annual_salary']\n",
    "#fivestars=fivestars.astype(float)\n",
    "fivestars"
   ]
  },
  {
   "cell_type": "code",
   "execution_count": 6,
   "id": "22faa6cd",
   "metadata": {},
   "outputs": [
    {
     "name": "stdout",
     "output_type": "stream",
     "text": [
      "Stat_Score =   -6.02470110100377\n",
      "Pvalue =   6.173365079593648e-09\n"
     ]
    }
   ],
   "source": [
    "from scipy import stats\n",
    "from scipy.stats import ttest_1samp\n",
    "stat,pvalue = stats.ttest_1samp(fivestars,3)\n",
    "print('Stat_Score =  ',stat)\n",
    "print('Pvalue =  ',pvalue)"
   ]
  },
  {
   "cell_type": "code",
   "execution_count": 7,
   "id": "943cbc7e",
   "metadata": {},
   "outputs": [
    {
     "name": "stdout",
     "output_type": "stream",
     "text": [
      "Confidence interval is between (2.0722233496357747, 2.529402666624388)\n"
     ]
    }
   ],
   "source": [
    "con_level = 0.95\n",
    "df = len(fivestars)-1\n",
    "mu = fivestars.mean()\n",
    "se = stats.sem(fivestars)\n",
    "\n",
    "conf_int = stats.t.interval(con_level,df,mu,se)\n",
    "print('Confidence interval is between', conf_int)"
   ]
  },
  {
   "cell_type": "code",
   "execution_count": 8,
   "id": "6f3347ad",
   "metadata": {},
   "outputs": [],
   "source": [
    "#The p-value is below our threshhold of .05 and the Stat_Score is negative, so we can reject the null (Ho).\n",
    "#Therefore it is more likely that the average rating is less than 3. Again, let's check!"
   ]
  },
  {
   "cell_type": "code",
   "execution_count": 9,
   "id": "0432bd70",
   "metadata": {},
   "outputs": [
    {
     "data": {
      "text/plain": [
       "2.3008130081300813"
      ]
     },
     "execution_count": 9,
     "metadata": {},
     "output_type": "execute_result"
    }
   ],
   "source": [
    "fivestars.mean()"
   ]
  },
  {
   "cell_type": "code",
   "execution_count": null,
   "id": "8d62d398",
   "metadata": {},
   "outputs": [],
   "source": []
  }
 ],
 "metadata": {
  "kernelspec": {
   "display_name": "Python 3 (ipykernel)",
   "language": "python",
   "name": "python3"
  },
  "language_info": {
   "codemirror_mode": {
    "name": "ipython",
    "version": 3
   },
   "file_extension": ".py",
   "mimetype": "text/x-python",
   "name": "python",
   "nbconvert_exporter": "python",
   "pygments_lexer": "ipython3",
   "version": "3.9.13"
  }
 },
 "nbformat": 4,
 "nbformat_minor": 5
}
